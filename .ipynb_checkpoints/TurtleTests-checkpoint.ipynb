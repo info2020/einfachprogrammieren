{
 "cells": [
  {
   "cell_type": "markdown",
   "metadata": {},
   "source": [
    "## Allgemeiner Test (https://docs.python.org/3.3/library/turtle.html?highlight=turtle)"
   ]
  },
  {
   "cell_type": "markdown",
   "metadata": {},
   "source": [
    "## Turtle-Methoden\n",
    "https://docs.python.org/2/library/turtle.html"
   ]
  },
  {
   "cell_type": "markdown",
   "metadata": {},
   "source": [
    "## Allgemeiner Test "
   ]
  },
  {
   "cell_type": "code",
   "execution_count": null,
   "metadata": {},
   "outputs": [],
   "source": [
    "from turtle import *\n",
    "color('red', 'yellow')\n",
    "begin_fill()\n",
    "shape(\"turtle\")\n",
    "speed(100)\n",
    "while True:\n",
    "    forward(200)\n",
    "    left(170)\n",
    "    if abs(pos()) < 1:\n",
    "        break\n",
    "end_fill()\n",
    "done()"
   ]
  },
  {
   "cell_type": "markdown",
   "metadata": {},
   "source": [
    "## Turtle-Objekt"
   ]
  },
  {
   "cell_type": "code",
   "execution_count": null,
   "metadata": {
    "scrolled": true
   },
   "outputs": [],
   "source": [
    "jack = Turtle()\n",
    "jack.shape(\"circle\")\n"
   ]
  },
  {
   "cell_type": "markdown",
   "metadata": {},
   "source": [
    "## Funktionen: Seite 20, Beispiel 3"
   ]
  },
  {
   "cell_type": "code",
   "execution_count": null,
   "metadata": {},
   "outputs": [],
   "source": [
    "def quadrat50():\n",
    "    forward(50)\n",
    "    \n",
    "quadrat50()"
   ]
  },
  {
   "cell_type": "markdown",
   "metadata": {},
   "source": [
    "## Make and hide: Seite 25, Beispiel 7"
   ]
  },
  {
   "cell_type": "code",
   "execution_count": null,
   "metadata": {},
   "outputs": [],
   "source": [
    "from turtle import *\n",
    "\n",
    "def dreieck100():\n",
    "    forward(100)\n",
    "    right(120)\n",
    "    forward(100)\n",
    "    right(120)\n",
    "    forward(100)\n",
    "    right(120)\n",
    "\n",
    "def zeige_dreieck():\n",
    "    setPenColor('red')\n",
    "    dreieck100()\n",
    "    delay(1000)\n",
    "    setPenColor('white')\n",
    "    dreeck(100)\n",
    "    \n",
    "makeTurtle()\n",
    "hideTurtle()\n",
    "quadrat50()"
   ]
  },
  {
   "cell_type": "code",
   "execution_count": 2,
   "metadata": {},
   "outputs": [],
   "source": [
    "from kshp import *\n",
    "\n",
    "def dreieck100():\n",
    "    forward(100)\n",
    "    right(120)\n",
    "    forward(100)\n",
    "    right(120)\n",
    "    forward(100)\n",
    "    right(120)\n",
    "\n",
    "def zeige_dreieck():\n",
    "    setPenColor('red')\n",
    "    dreieck100()\n",
    "    delay(1000)\n",
    "    setPenColor('white')\n",
    "    dreieck100()\n",
    "\n",
    "makeTurtle()\n",
    "hideTurtle()\n",
    "zeige_dreieck()"
   ]
  },
  {
   "cell_type": "code",
   "execution_count": null,
   "metadata": {},
   "outputs": [],
   "source": [
    "from kshp import *\n",
    "\n",
    "zahlenfolge = [1, 2, 3 ,4]\n"
   ]
  }
 ],
 "metadata": {
  "kernelspec": {
   "display_name": "Python 3",
   "language": "python",
   "name": "python3"
  },
  "language_info": {
   "codemirror_mode": {
    "name": "ipython",
    "version": 3
   },
   "file_extension": ".py",
   "mimetype": "text/x-python",
   "name": "python",
   "nbconvert_exporter": "python",
   "pygments_lexer": "ipython3",
   "version": "3.7.2"
  }
 },
 "nbformat": 4,
 "nbformat_minor": 2
}
